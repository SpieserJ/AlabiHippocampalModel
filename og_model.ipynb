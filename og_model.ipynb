{
 "cells": [
  {
   "cell_type": "code",
   "execution_count": 7,
   "metadata": {},
   "outputs": [],
   "source": [
    "import numpy as np\n",
    "import tensorflow as tf\n",
    "import os\n",
    "tf.random.set_seed(5)\n",
    "from numpy.random import default_rng\n",
    "\n",
    "np.set_printoptions(precision=2)"
   ]
  },
  {
   "cell_type": "code",
   "execution_count": 8,
   "metadata": {},
   "outputs": [],
   "source": [
    "num_pc = 1000 # number of PC\n",
    "input_dim = 720 # BVC input size (720 bc RPLidar spits out a 720-point array)\n",
    "timestep = 32 * 3\n",
    "max_dist = 12 # not sure what units here\n",
    "timestep = 32 * 3\n",
    "tau_w = 10\n",
    "PI = tf.constant(np.pi) \n",
    "rng = default_rng()"
   ]
  },
  {
   "cell_type": "code",
   "execution_count": 9,
   "metadata": {},
   "outputs": [],
   "source": [
    "class bvcLayer():\n",
    "    def __init__(self, max_dist, input_dim, angular_tuning_width=90, n_hd=8, sigma_d=.5):\n",
    "        '''\n",
    "        Initializes the boundary vector cell (BVC) layer.\n",
    "\n",
    "        Parameters:\n",
    "        max_dist: Max distance that the BVCs respond to. Units depend on the context of the environment.\n",
    "        input_dim: Size of input vector to the BVC layer (e.g., 720 for RPLidar).\n",
    "        sigma_ang: Standard deviation for the Gaussian function modeling angular tuning of BVCs (in degrees).\n",
    "        n_hd: Number of head direction cells.\n",
    "        sigma_d: Standard deviation for the Gaussian function modeling distance tuning of BVCs.\n",
    "        '''\n",
    "        \n",
    "        self.preferred_distances = np.tile(np.arange(0, max_dist, sigma_d/2), n_hd)[np.newaxis, :]  \n",
    "        # Preferred distances for each BVC; determines how sensitive each BVC is to specific distances.\n",
    "        \n",
    "        self.num_distances = self.preferred_distances.size  \n",
    "        # Total number of BVC tuning points (number of preferred distances).\n",
    "\n",
    "        self.in_i = np.repeat(np.linspace(0, input_dim, n_hd, endpoint=False, dtype=int), max_dist/(sigma_d/2))[np.newaxis, :]\n",
    "        # Indices for input vector, aligning BVCs with specific head directions.\n",
    "\n",
    "        self.preferred_angles = np.linspace(0, 2*np.pi, input_dim)[self.in_i]  \n",
    "        # Preferred angles for each BVC (in radians).\n",
    "\n",
    "        self.angular_tuning_width  = tf.constant(np.deg2rad(angular_tuning_width), dtype=tf.float32)  \n",
    "        # Angular standard deviation for BVC tuning (converted to radians).\n",
    "\n",
    "        self.bvc_out = None  # Placeholder for BVC output.\n",
    "\n",
    "        self.sigma_d = tf.constant(sigma_d, dtype=tf.float32)  \n",
    "        # Distance standard deviation for BVC tuning.\n",
    "\n",
    "    def compute_bvc_activation(self, distances, angles):\n",
    "        # Gaussian function for distance tuning\n",
    "        distance_gaussian = tf.exp(-(distances[self.input_indices] - self.preferred_distances)**2 / (2 * self.distance_tuning_stddev**2)) / tf.sqrt(2 * PI * self.angular_tuning_width**2)\n",
    "        \n",
    "        # Gaussian function for angular tuning\n",
    "        angular_gaussian = tf.exp(-((angles[self.input_indices] - self.preferred_angles)**2) / (2 * self.angular_tuning_width**2)) / tf.sqrt(2 * PI * self.angular_tuning_width**2)\n",
    "        \n",
    "        # Return the product of distance and angular Gaussian functions\n",
    "        return distance_gaussian * angular_gaussian\n",
    "    \n",
    "    # How to use (in driver.py): self.pcn([self.boundaries, np.linspace(0, 2*np.pi, 720, False)], self.hdv, self.context, self.mode, np.any(self.collided))\n",
    "    def __call__(self, distances, angles):\n",
    "        return tf.reduce_sum(self.compute_bvc_activation(distances, angles), 0)\n"
   ]
  },
  {
   "cell_type": "code",
   "execution_count": 13,
   "metadata": {},
   "outputs": [
    {
     "data": {
      "text/plain": [
       "384"
      ]
     },
     "execution_count": 13,
     "metadata": {},
     "output_type": "execute_result"
    }
   ],
   "source": [
    "test = bvcLayer(max_dist, input_dim)\n",
    "\n",
    "test.preferred_distances.size"
   ]
  },
  {
   "cell_type": "code",
   "execution_count": 10,
   "metadata": {},
   "outputs": [],
   "source": [
    "class PlaceCellLayer():\n",
    "    def __init__(self, num_pc, input_dim, timestep, max_dist, n_hd):\n",
    "        '''\n",
    "        Initializes the Place Cell Layer.\n",
    "\n",
    "        Parameters:\n",
    "        num_pc: Number of place cells in the layer.\n",
    "        input_dim: Dimension of the input vector to the layer (e.g., 720 for RPLidar).\n",
    "        timestep: Time step for simulation or learning updates.\n",
    "        max_dist: Maximum distance that the boundary vector cells (BVCs) respond to.\n",
    "        n_hd: Number of head direction cells.\n",
    "        '''\n",
    "        \n",
    "        # Number of place cells\n",
    "        self.num_pc = num_pc\n",
    "        \n",
    "        # Initialize the Boundary Vector Cell (BVC) layer\n",
    "        self.bvcLayer = bvcLayer(max_dist, input_dim)\n",
    "        \n",
    "        # Number of BVCs\n",
    "        self.num_bvc = self.bvcLayer.num_distances\n",
    "        \n",
    "        # Recurrent weight matrix connecting place cells to one another, with consideration of head directions\n",
    "        # Shape: (n_hd, num_pc, num_pc)\n",
    "        self.w_rec_place_to_place = tf.Variable(np.zeros((n_hd, num_pc, num_pc)), dtype=tf.float32)\n",
    "        \n",
    "        # Input weight matrix connecting place cells to BVCs\n",
    "        # Shape: (num_pc, num_bvc)\n",
    "        self.w_in = tf.Variable(rng.binomial(1, .2, (num_pc, self.num_bvc)), dtype=tf.float32)\n",
    "        \n",
    "        # Recurrent weight matrix for interactions involving head direction cells and place cells\n",
    "        # Shape: (n_hd, num_pc, num_pc)\n",
    "        self.w_rec_hd_place = tf.zeros(shape=(n_hd, num_pc, num_pc), dtype=tf.float32)\n"
   ]
  }
 ],
 "metadata": {
  "kernelspec": {
   "display_name": "base",
   "language": "python",
   "name": "python3"
  },
  "language_info": {
   "codemirror_mode": {
    "name": "ipython",
    "version": 3
   },
   "file_extension": ".py",
   "mimetype": "text/x-python",
   "name": "python",
   "nbconvert_exporter": "python",
   "pygments_lexer": "ipython3",
   "version": "3.11.4"
  }
 },
 "nbformat": 4,
 "nbformat_minor": 2
}
